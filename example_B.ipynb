{
  "metadata": {
    "kernelspec": {
      "name": "python",
      "display_name": "Python (Pyodide)",
      "language": "python"
    },
    "language_info": {
      "codemirror_mode": {
        "name": "python",
        "version": 3
      },
      "file_extension": ".py",
      "mimetype": "text/x-python",
      "name": "python",
      "nbconvert_exporter": "python",
      "pygments_lexer": "ipython3",
      "version": "3.8"
    }
  },
  "nbformat_minor": 4,
  "nbformat": 4,
  "cells": [
    {
      "cell_type": "markdown",
      "source": "# Author Information",
      "metadata": {}
    },
    {
      "cell_type": "markdown",
      "source": "Author: Martin Wegmann\n\nEmail: martin.wegmann2@unibe.ch\n\nDate: 25th November 2022\n\n---",
      "metadata": {}
    },
    {
      "cell_type": "markdown",
      "source": "# Analysis Start",
      "metadata": {}
    },
    {
      "cell_type": "markdown",
      "source": "## Computation of Variable X",
      "metadata": {}
    },
    {
      "cell_type": "markdown",
      "source": "This includes the following variables:\n\n* Temperature\n* Salinity\n* Humidity",
      "metadata": {}
    },
    {
      "cell_type": "code",
      "source": "temperature=2451/234",
      "metadata": {
        "trusted": true
      },
      "outputs": [],
      "execution_count": 1
    },
    {
      "cell_type": "code",
      "source": "temperature",
      "metadata": {
        "trusted": true
      },
      "outputs": [
        {
          "execution_count": 2,
          "output_type": "execute_result",
          "data": {
            "text/plain": "10.474358974358974"
          },
          "metadata": {}
        }
      ],
      "execution_count": 2
    },
    {
      "cell_type": "code",
      "source": "",
      "metadata": {
        "trusted": true
      },
      "outputs": [],
      "execution_count": null
    }
  ]
}